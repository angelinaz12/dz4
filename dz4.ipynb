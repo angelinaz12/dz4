{
 "cells": [
  {
   "cell_type": "code",
   "execution_count": 257,
   "metadata": {},
   "outputs": [],
   "source": [
    "\"\"\"Вам нужно помочь секретарю автоматизировать работу. Для этого нужно написать программу,\n",
    "которая будет на основе хранимых данных исполнять пользовательские команды.\n",
    "Примеры работы:\n",
    "Введите команду:\n",
    "p\n",
    "Введите номер документа:\n",
    "10006\n",
    "Результат:\n",
    "Владелец документа: Аристарх Павлов\"\"\"\n",
    "\n",
    "documents = [\n",
    "{'type': 'passport', 'number': '2207 876234', 'name': 'Василий Гупкин'},\n",
    "{'type': 'invoice', 'number': '11-2', 'name': 'Геннадий Покемонов'},\n",
    "{'type': 'insurance', 'number': '10006', 'name': 'Аристарх Павлов'}\n",
    "]\n",
    "\n",
    "directories = {\n",
    "'1': ['2207 876234', '11-2'],\n",
    "'2': ['10006'],\n",
    "'3': []\n",
    "}"
   ]
  },
  {
   "cell_type": "code",
   "execution_count": 258,
   "metadata": {},
   "outputs": [],
   "source": [
    "\"\"\"1)Пользователь по команде “p” может узнать владельца документа по его номеру\"\"\"\n",
    "\n",
    "def people(doc_number):      \n",
    "    for doc in documents:\n",
    "        if doc[\"number\"]== doc_number:\n",
    "            return doc[\"name\"]   \n",
    "    else:\n",
    "            print(\"Документ в базе не найден\")\n",
    "            "
   ]
  },
  {
   "cell_type": "code",
   "execution_count": 259,
   "metadata": {},
   "outputs": [],
   "source": [
    "\"\"\"2)Пользователь по команде “s” может по номеру документа узнать на какой полке он хранится\"\"\"\n",
    "\n",
    "\n",
    "def shelf_number(doc_number):\n",
    "    for shelf, number in directories.items():\n",
    "            if doc_number in number:\n",
    "                return shelf          \n",
    "    else:\n",
    "        print(\"Документ не найден в базе\")       "
   ]
  },
  {
   "cell_type": "code",
   "execution_count": 260,
   "metadata": {},
   "outputs": [],
   "source": [
    "\"\"\"3)Пользователь по команде “l” может увидеть полную информацию по всем документам\"\"\"\n",
    "\n",
    "def all_doc():\n",
    "    for el in documents:\n",
    "        print(f\"№:{el['number']},тип:{el['type']},владелец:{el['name']}, полка хранения:{shelf_number(el['number'])}\")\n",
    "        "
   ]
  },
  {
   "cell_type": "code",
   "execution_count": 261,
   "metadata": {},
   "outputs": [],
   "source": [
    "\"\"\"4)Пользователь по команде “as” может добавить новую полку\"\"\"\n",
    "\n",
    "def ads_shelf(shelf):\n",
    "    for direct in directories.items():\n",
    "        if shelf in direct[0]:\n",
    "            return (f'Такая полка уже сущесвует {list(directories.keys())}')\n",
    "    else:\n",
    "        directories[shelf] = []\n",
    "        print(f\"Полка добавлена. Текущий перечень полок: {list(directories.keys())}\")\n",
    "                          "
   ]
  },
  {
   "cell_type": "code",
   "execution_count": 262,
   "metadata": {},
   "outputs": [],
   "source": [
    "\"\"\"5)Пользователь по команде “ds” может удалить существующую полку из данных (только если она пустая)\"\"\"\n",
    "def delete_shelf(shelf):\n",
    "    if shelf not in directories:\n",
    "            print (f'Такой полки не существует. Текущий перечень полок: {\",\".join(directories)}')\n",
    "    if  len(directories[shelf]) == 0:\n",
    "            del directories[shelf]\n",
    "            print (f'Полка удалена. Текущий перечень полок:{\",\".join(directories)}')\n",
    "    if len(directories[shelf]) > 0:\n",
    "            print(f'На полке есть документа, удалите их перед удалением полки. Текущий перечень полок: {\",\".join(directories)}')  \n",
    "            return\n",
    "            "
   ]
  },
  {
   "cell_type": "code",
   "execution_count": 263,
   "metadata": {},
   "outputs": [
    {
     "name": "stdout",
     "output_type": "stream",
     "text": [
      "Введите команду:p\n",
      "\n",
      "Введите номер документа:11-2\n",
      "Геннадий Покемонов\n",
      "Введите команду:s\n",
      "\n",
      "Введите номер документа:10006\n",
      "2\n",
      "Введите команду:s\n",
      "\n",
      "Введите номер документа:23242\n",
      "Документ не найден в базе\n",
      "None\n",
      "Введите команду:l\n",
      "№:2207 876234,тип:passport,владелец:Василий Гупкин, полка хранения:1\n",
      "№:11-2,тип:invoice,владелец:Геннадий Покемонов, полка хранения:1\n",
      "№:10006,тип:insurance,владелец:Аристарх Павлов, полка хранения:2\n",
      "None\n",
      "Введите команду:as\n",
      "\n",
      "Введите номер полки:23\n",
      "Полка добавлена. Текущий перечень полок: ['1', '2', '3', '23']\n",
      "None\n",
      "Введите команду:ds\n",
      "\n",
      "Введите номер полки23\n",
      "Полка удалена. Текущий перечень полок:1,2,3\n"
     ]
    },
    {
     "ename": "KeyError",
     "evalue": "'23'",
     "output_type": "error",
     "traceback": [
      "\u001b[1;31m---------------------------------------------------------------------------\u001b[0m",
      "\u001b[1;31mKeyError\u001b[0m                                  Traceback (most recent call last)",
      "\u001b[1;32m<ipython-input-263-9ce3dc59d89f>\u001b[0m in \u001b[0;36m<module>\u001b[1;34m\u001b[0m\n\u001b[0;32m     16\u001b[0m \u001b[1;33m\u001b[0m\u001b[0m\n\u001b[0;32m     17\u001b[0m \u001b[1;33m\u001b[0m\u001b[0m\n\u001b[1;32m---> 18\u001b[1;33m \u001b[0mmain\u001b[0m\u001b[1;33m(\u001b[0m\u001b[1;33m)\u001b[0m\u001b[1;33m\u001b[0m\u001b[1;33m\u001b[0m\u001b[0m\n\u001b[0m",
      "\u001b[1;32m<ipython-input-263-9ce3dc59d89f>\u001b[0m in \u001b[0;36mmain\u001b[1;34m()\u001b[0m\n\u001b[0;32m     12\u001b[0m             \u001b[0mprint\u001b[0m\u001b[1;33m(\u001b[0m\u001b[0mads_shelf\u001b[0m\u001b[1;33m(\u001b[0m\u001b[0minput\u001b[0m\u001b[1;33m(\u001b[0m\u001b[1;34m'\\nВведите номер полки:'\u001b[0m\u001b[1;33m)\u001b[0m\u001b[1;33m)\u001b[0m\u001b[1;33m)\u001b[0m\u001b[1;33m\u001b[0m\u001b[1;33m\u001b[0m\u001b[0m\n\u001b[0;32m     13\u001b[0m         \u001b[1;32melif\u001b[0m \u001b[0muser_input\u001b[0m \u001b[1;33m==\u001b[0m \u001b[1;34m'ds'\u001b[0m\u001b[1;33m:\u001b[0m\u001b[1;33m\u001b[0m\u001b[1;33m\u001b[0m\u001b[0m\n\u001b[1;32m---> 14\u001b[1;33m             \u001b[0mprint\u001b[0m\u001b[1;33m(\u001b[0m\u001b[0mdelete_shelf\u001b[0m\u001b[1;33m(\u001b[0m\u001b[0minput\u001b[0m\u001b[1;33m(\u001b[0m\u001b[1;34m'\\nВведите номер полки'\u001b[0m\u001b[1;33m)\u001b[0m\u001b[1;33m)\u001b[0m\u001b[1;33m)\u001b[0m\u001b[1;33m\u001b[0m\u001b[1;33m\u001b[0m\u001b[0m\n\u001b[0m\u001b[0;32m     15\u001b[0m             \u001b[1;32mbreak\u001b[0m\u001b[1;33m\u001b[0m\u001b[1;33m\u001b[0m\u001b[0m\n\u001b[0;32m     16\u001b[0m \u001b[1;33m\u001b[0m\u001b[0m\n",
      "\u001b[1;32m<ipython-input-262-64c8c3696fa7>\u001b[0m in \u001b[0;36mdelete_shelf\u001b[1;34m(shelf)\u001b[0m\n\u001b[0;32m      6\u001b[0m             \u001b[1;32mdel\u001b[0m \u001b[0mdirectories\u001b[0m\u001b[1;33m[\u001b[0m\u001b[0mshelf\u001b[0m\u001b[1;33m]\u001b[0m\u001b[1;33m\u001b[0m\u001b[1;33m\u001b[0m\u001b[0m\n\u001b[0;32m      7\u001b[0m             \u001b[0mprint\u001b[0m \u001b[1;33m(\u001b[0m\u001b[1;34mf'Полка удалена. Текущий перечень полок:{\",\".join(directories)}'\u001b[0m\u001b[1;33m)\u001b[0m\u001b[1;33m\u001b[0m\u001b[1;33m\u001b[0m\u001b[0m\n\u001b[1;32m----> 8\u001b[1;33m     \u001b[1;32mif\u001b[0m \u001b[0mlen\u001b[0m\u001b[1;33m(\u001b[0m\u001b[0mdirectories\u001b[0m\u001b[1;33m[\u001b[0m\u001b[0mshelf\u001b[0m\u001b[1;33m]\u001b[0m\u001b[1;33m)\u001b[0m \u001b[1;33m>\u001b[0m \u001b[1;36m0\u001b[0m\u001b[1;33m:\u001b[0m\u001b[1;33m\u001b[0m\u001b[1;33m\u001b[0m\u001b[0m\n\u001b[0m\u001b[0;32m      9\u001b[0m             \u001b[0mprint\u001b[0m\u001b[1;33m(\u001b[0m\u001b[1;34mf'На полке есть документа, удалите их перед удалением полки. Текущий перечень полок: {\",\".join(directories)}'\u001b[0m\u001b[1;33m)\u001b[0m\u001b[1;33m\u001b[0m\u001b[1;33m\u001b[0m\u001b[0m\n\u001b[0;32m     10\u001b[0m             \u001b[1;32mreturn\u001b[0m\u001b[1;33m\u001b[0m\u001b[1;33m\u001b[0m\u001b[0m\n",
      "\u001b[1;31mKeyError\u001b[0m: '23'"
     ]
    }
   ],
   "source": [
    "\"\"\"Основное меню для запуска команд\"\"\"\n",
    "def main():\n",
    "    while True:\n",
    "        user_input = input (\"Введите команду:\")\n",
    "        if user_input == 'p':\n",
    "            print(people(input('\\nВведите номер документа:')))\n",
    "        elif user_input == 's':\n",
    "            print(shelf_number(input('\\nВведите номер документа:')))\n",
    "        elif user_input == 'l':\n",
    "            print (all_doc())\n",
    "        elif user_input == 'as':\n",
    "            print(ads_shelf(input('\\nВведите номер полки:')))\n",
    "        elif user_input == 'ds':\n",
    "            print(delete_shelf(input('\\nВведите номер полки')))\n",
    "            break\n",
    "\n",
    "\n",
    "main()"
   ]
  },
  {
   "cell_type": "code",
   "execution_count": 16,
   "metadata": {},
   "outputs": [],
   "source": [
    "    "
   ]
  },
  {
   "cell_type": "code",
   "execution_count": null,
   "metadata": {},
   "outputs": [],
   "source": []
  },
  {
   "cell_type": "code",
   "execution_count": null,
   "metadata": {},
   "outputs": [],
   "source": []
  }
 ],
 "metadata": {
  "kernelspec": {
   "display_name": "Python 3",
   "language": "python",
   "name": "python3"
  },
  "language_info": {
   "codemirror_mode": {
    "name": "ipython",
    "version": 3
   },
   "file_extension": ".py",
   "mimetype": "text/x-python",
   "name": "python",
   "nbconvert_exporter": "python",
   "pygments_lexer": "ipython3",
   "version": "3.8.5"
  }
 },
 "nbformat": 4,
 "nbformat_minor": 4
}
