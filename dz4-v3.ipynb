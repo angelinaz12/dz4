{
 "cells": [
  {
   "cell_type": "code",
   "execution_count": null,
   "metadata": {},
   "outputs": [],
   "source": [
    "\"\"\"Вам нужно помочь секретарю автоматизировать работу. Для этого нужно написать программу,\n",
    "которая будет на основе хранимых данных исполнять пользовательские команды.\n",
    "Примеры работы:\n",
    "Введите команду:\n",
    "p\n",
    "Введите номер документа:\n",
    "10006\n",
    "Результат:\n",
    "Владелец документа: Аристарх Павлов\"\"\"\n",
    "\n",
    "documents = [\n",
    "{'type': 'passport', 'number': '2207 876234', 'name': 'Василий Гупкин'},\n",
    "{'type': 'invoice', 'number': '11-2', 'name': 'Геннадий Покемонов'},\n",
    "{'type': 'insurance', 'number': '10006', 'name': 'Аристарх Павлов'}\n",
    "]\n",
    "\n",
    "directories = {\n",
    "'1': ['2207 876234', '11-2'],\n",
    "'2': ['10006'],\n",
    "'3': []\n",
    "}"
   ]
  },
  {
   "cell_type": "code",
   "execution_count": null,
   "metadata": {},
   "outputs": [],
   "source": [
    "\"\"\"1)Пользователь по команде “p” может узнать владельца документа по его номеру\"\"\"\n",
    "\n",
    "def people(doc_number):      \n",
    "    for doc in documents:\n",
    "        if doc[\"number\"]== doc_number:\n",
    "            return doc[\"name\"]   \n",
    "    else:\n",
    "            print(\"Документ в базе не найден\")\n",
    "            "
   ]
  },
  {
   "cell_type": "code",
   "execution_count": null,
   "metadata": {},
   "outputs": [],
   "source": [
    "\"\"\"2)Пользователь по команде “s” может по номеру документа узнать на какой полке он хранится\"\"\"\n",
    "\n",
    "\n",
    "def shelf_number(doc_number):\n",
    "    for shelf, number in directories.items():\n",
    "            if doc_number in number:\n",
    "                return shelf          \n",
    "    else:\n",
    "        print(\"Документ не найден в базе\")       "
   ]
  },
  {
   "cell_type": "code",
   "execution_count": null,
   "metadata": {},
   "outputs": [],
   "source": [
    "\"\"\"3)Пользователь по команде “l” может увидеть полную информацию по всем документам\"\"\"\n",
    "\n",
    "def all_doc():\n",
    "    for el in documents:\n",
    "        print(f\"№:{el['number']},тип:{el['type']},владелец:{el['name']}, полка хранения:{shelf_number(el['number'])}\")\n",
    "                "
   ]
  },
  {
   "cell_type": "code",
   "execution_count": null,
   "metadata": {},
   "outputs": [],
   "source": [
    "\"\"\"4)Пользователь по команде “as” может добавить новую полку\"\"\"\n",
    "\n",
    "def ads_shelf(shelf):\n",
    "    for direct in directories.items():\n",
    "        if shelf in direct[0]:\n",
    "            return (f'Такая полка уже сущесвует {list(directories.keys())}')\n",
    "    else:\n",
    "        directories[shelf] = []\n",
    "        print(f\"Полка добавлена. Текущий перечень полок: {list(directories.keys())}\")\n",
    "                          "
   ]
  },
  {
   "cell_type": "code",
   "execution_count": 35,
   "metadata": {},
   "outputs": [],
   "source": [
    "\"\"\"5)Пользователь по команде “ds” может удалить существующую полку из данных (только если она пустая)\"\"\"\n",
    "def delete_shelf(shelf):\n",
    "    if shelf not in directories:\n",
    "            print (f'Такой полки не существует. Текущий перечень полок: {\",\".join(directories)}')\n",
    "            return\n",
    "    if  len(directories[shelf]) == 0:\n",
    "            del directories[shelf]\n",
    "            print (f'Полка удалена. Текущий перечень полок:{\",\".join(directories)}')\n",
    "            return\n",
    "    if len(directories[shelf]) > 0:\n",
    "            print (f'На полке есть документа, удалите их перед удалением полки. Текущий перечень полок: {\",\".join(directories)}')  \n",
    "            return\n"
   ]
  },
  {
   "cell_type": "code",
   "execution_count": null,
   "metadata": {},
   "outputs": [
    {
     "name": "stdout",
     "output_type": "stream",
     "text": [
      "Введите команду:ds\n",
      "\n",
      "Введите номер полки:1\n",
      "На полке есть документа, удалите их перед удалением полки. Текущий перечень полок: 1,2,4\n",
      "Введите команду:ds\n",
      "\n",
      "Введите номер полки:4\n",
      "Полка удалена. Текущий перечень полок:1,2\n",
      "Введите команду:l\n",
      "№:2207 876234,тип:passport,владелец:Василий Гупкин, полка хранения:1\n",
      "№:11-2,тип:invoice,владелец:Геннадий Покемонов, полка хранения:1\n",
      "№:10006,тип:insurance,владелец:Аристарх Павлов, полка хранения:2\n"
     ]
    }
   ],
   "source": [
    "\"\"\"Основное меню для запуска команд\"\"\"\n",
    "def main():\n",
    "    while True:\n",
    "        user_input = input (\"Введите команду:\")\n",
    "        if user_input == 'p':\n",
    "            print(people(input('\\nВведите номер документа:')))\n",
    "        elif user_input == 's':\n",
    "            print(shelf_number(input('\\nВведите номер документа:')))\n",
    "        elif user_input == 'l':\n",
    "             all_doc()\n",
    "        elif user_input == 'as':\n",
    "            ads_shelf(input('\\nВведите номер полки:'))\n",
    "        elif user_input == 'ds':\n",
    "            delete_shelf(input('\\nВведите номер полки:'))\n",
    "        elif user_input == 'q':\n",
    "            print('До свидания!')\n",
    "            break\n",
    "\n",
    "\n",
    "main()"
   ]
  },
  {
   "cell_type": "code",
   "execution_count": 16,
   "metadata": {},
   "outputs": [],
   "source": [
    "    "
   ]
  },
  {
   "cell_type": "code",
   "execution_count": null,
   "metadata": {},
   "outputs": [],
   "source": []
  },
  {
   "cell_type": "code",
   "execution_count": null,
   "metadata": {},
   "outputs": [],
   "source": []
  }
 ],
 "metadata": {
  "kernelspec": {
   "display_name": "Python 3",
   "language": "python",
   "name": "python3"
  },
  "language_info": {
   "codemirror_mode": {
    "name": "ipython",
    "version": 3
   },
   "file_extension": ".py",
   "mimetype": "text/x-python",
   "name": "python",
   "nbconvert_exporter": "python",
   "pygments_lexer": "ipython3",
   "version": "3.8.5"
  }
 },
 "nbformat": 4,
 "nbformat_minor": 4
}
